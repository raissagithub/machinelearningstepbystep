{
 "cells": [
  {
   "cell_type": "markdown",
   "metadata": {},
   "source": [
    "# Machine Learning"
   ]
  },
  {
   "cell_type": "markdown",
   "metadata": {},
   "source": [
    "**About this notebook**\n",
    "I wrote this notebook to gain a thorough understanding of how different machine learning algorithms work. I find it useful to unravel the algorithms and code them from scratch so I get a very fine sense of what they are doing. Someone else might find this useful too. I will use fruit examples, just because they are fun and easy to understand.\n",
    "\n",
    "**Credit**\n",
    "My machine learning knowledge comes from Coursera's machine learning course by Andrew Ng."
   ]
  },
  {
   "cell_type": "markdown",
   "metadata": {},
   "source": [
    "\n",
    "# 1. Linear Regression"
   ]
  },
  {
   "cell_type": "markdown",
   "metadata": {},
   "source": [
    "**Introduction**\n",
    "James owns a fruit stand at the market and sells bananas of different quality. Some have some brown spots, others are nice and yellow, of perfect quality. Customers pay more for bananas of better quality. \n",
    "\n",
    "**The problem**:\n",
    "James gets a new shipment of bananas and wants to be able to predict the price that he can sell them for based on their quality.\n",
    "\n",
    "**The data**:\n",
    "James has data from a 100 bananas that he sold in the past. The bananas were ranked on a scale from 0 (really bad) to 10 (perfect quality), and labeled for the respective price in cents James was able to sell them for.   \n",
    "- 'X' is the quality of the bananas, and is the feature that we are using to predict y\n",
    "- 'y' is the price of the bananas.\n",
    "\n",
    "**Machine learning algorithm**:\n",
    "In order to solve this problem (predicting the price of bananas according to their quality), we are going to use the **linear regression** algorithm. \n",
    "\n",
    "**Formula's:**\n",
    "In order to predict y (the price of bananas) for x (quality of the banana) we need parameters that gives the best fitted line for the data we have already seen (the training data). The formula for the hypothesized relationship between $X$ and $Y$, the $h_\\theta(x)$ is:\n",
    "\n",
    "(1a)$$h_\\theta(x) = \\theta_0 + \\theta_1 x_1$$\n",
    "\n",
    "We will use a vectorized implementation, which means we don't have to treat each banana example individually but instead we work with vector multiplications. This means that we set $x_0$ to $1$ so that we can multiply all parameter estimates $\\theta$ with all features $X$. (Even though we only have one feature in this example.)\n",
    "\n",
    "(1b)$$h_\\theta(x)= \\theta^Tx$$\n",
    "\n",
    "\n",
    "We want the best fitted line through our points that are scattered on the X and Y axis. In order to understand if our line is a good fit we use the cost function. In short, it calculates the distance from the points to that line. The smaller the sum of all those distances, the better the fit of the line is. So we minimize the cost function to get the best fitted line. The formula for the cost function is:\n",
    "\n",
    "(2)$$J(\\theta)= \\frac{1}{2}\\sum_{i=1}^m(h_\\theta(x^{(i)})-y^{(i)})^2$$\n",
    "\n",
    "\n",
    "So we have a hypothesis and a way of checking whether the line we predict is a good fit. But how do we find the parameters $\\theta$ to get the formula of the predicted line? We use gradient descent. We use the derivatives to get a direction to step towards so that we are minimizing the cost function. The formula for gradient descent is:\n",
    "\n",
    "\n",
    "(3)$$\\theta_j:=\\theta_j - \\alpha\\frac{\\delta}{\\delta\\theta_j}J(\\theta)$$\n",
    "\n",
    "\n",
    "We implement 'batch gradient descent', which means that it looks at all training examples simultaneously to update the parameters $\\theta$. This is a less costly implementation than to look through each example one by one. What we will do is:\n",
    "\n",
    "Repeat until convergence:\n",
    "\n",
    "(4)$$\\theta_j:=\\theta_j-\\alpha\\frac{1}{m}\\sum_{i=1}^m(h_\\theta(x^{(i)})-y^{(i)})x_j^{(i)}$$\n"
   ]
  },
  {
   "cell_type": "code",
   "execution_count": 51,
   "metadata": {},
   "outputs": [],
   "source": [
    "# The libraries we need\n",
    "import numpy as np\n",
    "import matplotlib.pyplot as plt"
   ]
  },
  {
   "cell_type": "code",
   "execution_count": 52,
   "metadata": {},
   "outputs": [
    {
     "name": "stdout",
     "output_type": "stream",
     "text": [
      "The shape of X = (100, 1)\n",
      "The shape of y = (100, 1)\n"
     ]
    }
   ],
   "source": [
    "X1 = np.sort(np.random.rand(100, 1)*10, axis=0) # initialize X array ; a feature of interest\n",
    "y = X1 + np.random.rand(100, 1)*5 # initalize Y array ; the labels for X \n",
    "print('The shape of X = {}'.format(X1.shape))\n",
    "print('The shape of y = {}'.format(y.shape))"
   ]
  },
  {
   "cell_type": "code",
   "execution_count": 53,
   "metadata": {},
   "outputs": [],
   "source": [
    "# normalize X so that the mean is 0 and the standard deviation 1. \n",
    "# It's not really necessary here but good practice.\n",
    "# This function normalizes the entire X array.\n",
    "\n",
    "def normalize(X):\n",
    "    \n",
    "    mu = np.zeros((1, X.shape[1]))\n",
    "    sigma = np.zeros((1, X.shape[1]))\n",
    "    \n",
    "    mu = np.mean(X)\n",
    "    sigma = np.std(X)\n",
    "    m = X.shape[0]\n",
    "    mu_matrix = np.ones((m,1)) * mu\n",
    "    sigma_matrix = np.ones((m,1)) * sigma\n",
    "    X = X - mu_matrix\n",
    "    X = X / sigma_matrix\n",
    "    \n",
    "    return(X)"
   ]
  },
  {
   "cell_type": "code",
   "execution_count": 54,
   "metadata": {},
   "outputs": [
    {
     "name": "stdout",
     "output_type": "stream",
     "text": [
      "The mean of X is now: 0\n",
      "The standard deviation of X is now: 1\n"
     ]
    }
   ],
   "source": [
    "X1_norm = normalize(X1)\n",
    "print('The mean of X is now: {}'.format(np.mean(X1_norm).astype(int)))\n",
    "print('The standard deviation of X is now: {}'.format(np.std(X1_norm).astype(int)))"
   ]
  },
  {
   "cell_type": "code",
   "execution_count": 55,
   "metadata": {},
   "outputs": [],
   "source": [
    "X0 = np.ones((X1_norm.shape[0],1)) # we set X0 to all zeroes to accomodate the theta0 (intercept) term\n",
    "X = np.concatenate((X0, X1_norm), axis=1) # combine them into one array"
   ]
  },
  {
   "cell_type": "code",
   "execution_count": 56,
   "metadata": {},
   "outputs": [],
   "source": [
    "# we want to keep some of the data in order to test whether our model works. \n",
    "# So let's split the data in a train set and a test set.\n",
    "from random import sample\n",
    "\n",
    "l = 100 #length of data \n",
    "f = 75  #number of elements you need\n",
    "indices = sample(range(l),f)\n",
    "\n",
    "X_train = X[indices]\n",
    "y_train = y[indices]\n",
    "\n",
    "X_test = np.delete(X, indices, axis=0)\n",
    "y_test = np.delete(y,indices, axis=0)"
   ]
  },
  {
   "cell_type": "code",
   "execution_count": 57,
   "metadata": {},
   "outputs": [
    {
     "name": "stdout",
     "output_type": "stream",
     "text": [
      "There are 2 features (one is x0, that consist of just ones to accomodate the intercept term theta0).\n",
      "There are 100 training examples.\n"
     ]
    }
   ],
   "source": [
    "feats = X_train.shape[1] # how many features do we have\n",
    "m = y.shape[0] # how many training examples do we have?\n",
    "print('There are {} features (one is x0, that consist of just ones to accomodate the intercept term theta0).'.format(feats))\n",
    "print('There are {} training examples.'.format(m))"
   ]
  },
  {
   "cell_type": "code",
   "execution_count": 58,
   "metadata": {},
   "outputs": [
    {
     "data": {
      "image/png": "[encoded data removed]",
      "text/plain": [
       "<Figure size 432x288 with 1 Axes>"
      ]
     },
     "metadata": {
      "needs_background": "light"
     },
     "output_type": "display_data"
    }
   ],
   "source": [
    "plt.scatter(X_train[:,1],y_train, color='magenta')\n",
    "plt.axis([-2, 2, 0, 15])\n",
    "plt.ylabel('Price')\n",
    "plt.xlabel('Quality (normalized)')\n",
    "plt.title('Price/Quality relationship for bananas')\n",
    "plt.show()"
   ]
  },
  {
   "cell_type": "code",
   "execution_count": 59,
   "metadata": {},
   "outputs": [],
   "source": [
    "def h_x(X, theta):\n",
    "    h = np.dot(X , theta) # we multiply a matrix with a vector, returns a vector\n",
    "    return h"
   ]
  },
  {
   "cell_type": "code",
   "execution_count": 60,
   "metadata": {},
   "outputs": [],
   "source": [
    "def computecost(X, y, theta):\n",
    "    predicted_y = h_x(X, theta) # use the hypothesis of x function to compute predicted Y values\n",
    "    error = predicted_y - y # compute the error of the hypothesis\n",
    "    error_sqrd = np.square(error) # take the squared error\n",
    "    J = 1/(2*m) * np.sum(error_sqrd) # sum those values\n",
    "    return J"
   ]
  },
  {
   "cell_type": "code",
   "execution_count": 61,
   "metadata": {},
   "outputs": [],
   "source": [
    "def gradientdescent(X, y, alpha, iterations):\n",
    "    \n",
    "    theta = np.zeros((2,1)) # we start off theta with zeroes\n",
    "    cost_history = np.zeros((iterations,1))\n",
    "    \n",
    "    for i in range(iterations):\n",
    "        predicted_y = h_x(X,theta)\n",
    "        error = predicted_y - y\n",
    "        theta_change = (alpha * (1/m)) * np.dot(X.T , error)\n",
    "        theta = theta - theta_change\n",
    "        cost_history[i] = computecost(X,y,theta)\n",
    "\n",
    "    return(theta, cost_history)"
   ]
  },
  {
   "cell_type": "code",
   "execution_count": 67,
   "metadata": {},
   "outputs": [
    {
     "name": "stdout",
     "output_type": "stream",
     "text": [
      "The values for theta after gradient descent are:\n",
      "[[7.1231791 ]\n",
      " [3.03173634]]\n",
      "The initial cost is: [25.50642164]\n",
      "The end cost is: [1.09929153]\n"
     ]
    }
   ],
   "source": [
    "theta, cost_history = gradientdescent(X,y,alpha=0.05, iterations=1000)\n",
    "print('The values for theta after gradient descent are:\\n{}'.format(theta))\n",
    "print('The initial cost is: {}'.format(cost_history[1]))\n",
    "print('The end cost is: {}'.format(cost_history[-1]))"
   ]
  },
  {
   "cell_type": "code",
   "execution_count": 68,
   "metadata": {},
   "outputs": [
    {
     "data": {
      "image/png": "[encoded data removed]",
      "text/plain": [
       "<Figure size 432x288 with 1 Axes>"
      ]
     },
     "metadata": {
      "needs_background": "light"
     },
     "output_type": "display_data"
    }
   ],
   "source": [
    "plt.plot(X_train[:,1],np.dot(X_train,theta), color='magenta')\n",
    "plt.scatter(X_train[:,1], y_train)\n",
    "plt.axis([-2, 2, 0, 15])\n",
    "plt.ylabel('Price')\n",
    "plt.xlabel('Quality (normalized)')\n",
    "plt.title('Price/Quality relationship for bananas')\n",
    "plt.show()"
   ]
  },
  {
   "cell_type": "code",
   "execution_count": 69,
   "metadata": {},
   "outputs": [
    {
     "data": {
      "image/png": "[encoded data removed]",
      "text/plain": [
       "<Figure size 432x288 with 1 Axes>"
      ]
     },
     "metadata": {
      "needs_background": "light"
     },
     "output_type": "display_data"
    }
   ],
   "source": [
    "plt.plot(range(len(cost_history)), cost_history, color=\"green\")\n",
    "plt.ylabel('Cost')\n",
    "plt.xlabel('Number of iterations')\n",
    "plt.title('Convergence of cost')\n",
    "plt.show()"
   ]
  },
  {
   "cell_type": "code",
   "execution_count": 70,
   "metadata": {},
   "outputs": [
    {
     "data": {
      "image/png": "[encoded data removed]",
      "text/plain": [
       "<Figure size 432x288 with 1 Axes>"
      ]
     },
     "metadata": {
      "needs_background": "light"
     },
     "output_type": "display_data"
    }
   ],
   "source": [
    "# Let's see how it looks with data that the model did not see before\n",
    "plt.plot(X_test[:,1],np.dot(X_test,theta), color='magenta')\n",
    "plt.scatter(X_test[:,1], y_test, color=\"orange\")\n",
    "plt.axis([-2, 2, 0, 15])\n",
    "plt.ylabel('Price')\n",
    "plt.xlabel('Quality (normalized)')\n",
    "plt.title('Price/Quality relationship for bananas')\n",
    "plt.show()"
   ]
  },
  {
   "cell_type": "code",
   "execution_count": 71,
   "metadata": {},
   "outputs": [
    {
     "name": "stdout",
     "output_type": "stream",
     "text": [
      "For a quality of -0.18055341217698 the predicted price is [6.57578876]\n",
      "The actual price is [6.32904174]\n"
     ]
    }
   ],
   "source": [
    "# Let's test this more\n",
    "quality = X_test[10,1] # take some example from the test set\n",
    "predicted_price = np.dot(X_test[10], theta) # what would be the predicted price?\n",
    "actual_price = y_test[10] # what is the actual price?\n",
    "print('For a quality of {} the predicted price is {}'.format(quality, predicted_price))\n",
    "print('The actual price is {}'.format(actual_price))"
   ]
  },
  {
   "cell_type": "code",
   "execution_count": null,
   "metadata": {},
   "outputs": [],
   "source": []
  },
  {
   "cell_type": "code",
   "execution_count": null,
   "metadata": {},
   "outputs": [],
   "source": []
  }
 ],
 "metadata": {
  "kernelspec": {
   "display_name": "Python 3",
   "language": "python",
   "name": "python3"
  },
  "language_info": {
   "codemirror_mode": {
    "name": "ipython",
    "version": 3
   },
   "file_extension": ".py",
   "mimetype": "text/x-python",
   "name": "python",
   "nbconvert_exporter": "python",
   "pygments_lexer": "ipython3",
   "version": "3.7.4"
  }
 },
 "nbformat": 4,
 "nbformat_minor": 2
}
